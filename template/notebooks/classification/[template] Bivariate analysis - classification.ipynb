{
 "cells": [
  {
   "cell_type": "markdown",
   "id": "20d825ef",
   "metadata": {},
   "source": [
    "<div class=\"alert alert-danger\" role=\"alert\">\n",
    "    <span style=\"font-size:20px\">&#9888;</span> <span style=\"font-size:16px\">This is a read-only notebook! If you want to make and save changes, save a copy by clicking on <b>File</b> &#8594; <b>Save a copy</b>. If this is already a copy, you can delete this cell.</span>\n",
    "</div>"
   ]
  },
  {
   "cell_type": "markdown",
   "id": "e219aa07",
   "metadata": {},
   "source": [
    "<h1>Bivariate plots to understand relationship with a binary target variable<span class=\"tocSkip\"></span></h1> "
   ]
  },
  {
   "cell_type": "markdown",
   "id": "ceb0328c",
   "metadata": {},
   "source": [
    "This analyzes the relationship between a binary target variable (loan approval) and possible predictive factors. This is particularly helpful for:\n",
    "- Identifying non-linearities, especially useful for logistic regression\n",
    "- Exploring segmentation\n",
    "- Uncovering structural relationships between target and independent variables"
   ]
  },
  {
   "cell_type": "markdown",
   "id": "18e1ffa8",
   "metadata": {},
   "source": [
    "<h2>Table of Contents<span class=\"tocSkip\"></span></h2>\n",
    "<ul class=\"toc-item\"><li><span><a href=\"#Import-key-libraries\" data-toc-modified-id=\"Import-key-libraries-1\"><span class=\"toc-item-num\">1&nbsp;&nbsp;</span>Import key libraries</a></span></li><li><span><a href=\"#Load-dataset\" data-toc-modified-id=\"Load-dataset-2\"><span class=\"toc-item-num\">2&nbsp;&nbsp;</span>Load dataset</a></span><ul class=\"toc-item\"><li><span><a href=\"#Explore-the-dataset\" data-toc-modified-id=\"Explore-the-dataset-2.1\"><span class=\"toc-item-num\">2.1&nbsp;&nbsp;</span>Explore the dataset</a></span></li><li><span><a href=\"#Target-variable-analysis\" data-toc-modified-id=\"Target-variable-analysis-2.2\"><span class=\"toc-item-num\">2.2&nbsp;&nbsp;</span>Target variable analysis</a></span></li></ul></li><li><span><a href=\"#Bivariate-Analysis\" data-toc-modified-id=\"Bivariate-Analysis-3\"><span class=\"toc-item-num\">3&nbsp;&nbsp;</span>Bivariate Analysis</a></span><ul class=\"toc-item\"><li><span><a href=\"#Continuous-x-variables\" data-toc-modified-id=\"Continuous-x-variables-3.1\"><span class=\"toc-item-num\">3.1&nbsp;&nbsp;</span>Continuous x-variables</a></span><ul class=\"toc-item\"><li><span><a href=\"#Bivariate-plot\" data-toc-modified-id=\"Bivariate-plot-3.1.1\"><span class=\"toc-item-num\">3.1.1&nbsp;&nbsp;</span>Bivariate plot</a></span></li></ul></li><li><span><a href=\"#Categorical-/-Discrete-x-variables\" data-toc-modified-id=\"Categorical-/-Discrete-x-variables-3.2\"><span class=\"toc-item-num\">3.2&nbsp;&nbsp;</span>Categorical / Discrete x-variables</a></span><ul class=\"toc-item\"><li><span><a href=\"#Barchart\" data-toc-modified-id=\"Barchart-3.2.1\"><span class=\"toc-item-num\">3.2.1&nbsp;&nbsp;</span>Barchart</a></span></li><li><span><a href=\"#Bivariate-plot---Categorical\" data-toc-modified-id=\"Bivariate-plot---Categorical-3.2.2\"><span class=\"toc-item-num\">3.2.2&nbsp;&nbsp;</span>Bivariate plot - Categorical</a></span></li><li><span><a href=\"#Bivariate-plot---Discrete\" data-toc-modified-id=\"Bivariate-plot---Discrete-3.2.3\"><span class=\"toc-item-num\">3.2.3&nbsp;&nbsp;</span>Bivariate plot - Discrete</a></span></li></ul></li></ul></li><li><span><a href=\"#Segmentation-analysis\" data-toc-modified-id=\"Segmentation-analysis-4\"><span class=\"toc-item-num\">4&nbsp;&nbsp;</span>Segmentation analysis</a></span><ul class=\"toc-item\"><li><span><a href=\"#Bivariate-plots-with-numerical-x-variables\" data-toc-modified-id=\"Bivariate-plots-with-numerical-x-variables-4.1\"><span class=\"toc-item-num\">4.1&nbsp;&nbsp;</span>Bivariate plots with numerical x-variables</a></span></li><li><span><a href=\"#Categorical-x-variable\" data-toc-modified-id=\"Categorical-x-variable-4.2\"><span class=\"toc-item-num\">4.2&nbsp;&nbsp;</span>Categorical x-variable</a></span><ul class=\"toc-item\"><li><span><a href=\"#Barplot\" data-toc-modified-id=\"Barplot-4.2.1\"><span class=\"toc-item-num\">4.2.1&nbsp;&nbsp;</span>Barplot</a></span></li><li><span><a href=\"#Bivariate-plot\" data-toc-modified-id=\"Bivariate-plot-4.2.2\"><span class=\"toc-item-num\">4.2.2&nbsp;&nbsp;</span>Bivariate plot</a></span></li></ul></li></ul></li><li><span><a href=\"#Appendix:-Data-Dictionary\" data-toc-modified-id=\"Appendix:-Data-Dictionary-5\"><span class=\"toc-item-num\">5&nbsp;&nbsp;</span>Appendix: Data Dictionary</a></span></li></ul>"
   ]
  },
  {
   "cell_type": "markdown",
   "id": "ca9372a8",
   "metadata": {},
   "source": [
    "# Import key libraries"
   ]
  },
  {
   "cell_type": "code",
   "execution_count": 1,
   "id": "750cd53b",
   "metadata": {},
   "outputs": [],
   "source": [
    "# Import key libraries\n",
    "import pandas as pd\n",
    "import numpy as np\n",
    "import matplotlib\n",
    "%matplotlib inline\n",
    "import matplotlib.pyplot as plt\n",
    "import seaborn as sns\n",
    "\n",
    "%load_ext autoreload\n",
    "%autoreload 2"
   ]
  },
  {
   "cell_type": "markdown",
   "id": "0ccf4b8e",
   "metadata": {},
   "source": [
    "**Import code stored in the utilities folder**"
   ]
  },
  {
   "cell_type": "code",
   "execution_count": 2,
   "id": "30f06181",
   "metadata": {},
   "outputs": [],
   "source": [
    "import sys\n",
    "sys.path.insert(0, \"../../utilities\")\n",
    "from model_plots import bivariate_plots_categorical"
   ]
  },
  {
   "cell_type": "markdown",
   "id": "914918cc",
   "metadata": {},
   "source": [
    "# Load dataset\n",
    "\n",
    "We read in the data using pandas, with low_memory=False in case the dataset is large. Pandas can handle csv in zip files."
   ]
  },
  {
   "cell_type": "code",
   "execution_count": 3,
   "id": "6be3fd58",
   "metadata": {},
   "outputs": [
    {
     "data": {
      "text/html": [
       "<div>\n",
       "<style scoped>\n",
       "    .dataframe tbody tr th:only-of-type {\n",
       "        vertical-align: middle;\n",
       "    }\n",
       "\n",
       "    .dataframe tbody tr th {\n",
       "        vertical-align: top;\n",
       "    }\n",
       "\n",
       "    .dataframe thead th {\n",
       "        text-align: right;\n",
       "    }\n",
       "</style>\n",
       "<table border=\"1\" class=\"dataframe\">\n",
       "  <thead>\n",
       "    <tr style=\"text-align: right;\">\n",
       "      <th></th>\n",
       "      <th>ID</th>\n",
       "      <th>year</th>\n",
       "      <th>loan_limit</th>\n",
       "      <th>Gender</th>\n",
       "      <th>approv_in_adv</th>\n",
       "      <th>loan_type</th>\n",
       "      <th>loan_purpose</th>\n",
       "      <th>Credit_Worthiness</th>\n",
       "      <th>open_credit</th>\n",
       "      <th>business_or_commercial</th>\n",
       "      <th>...</th>\n",
       "      <th>credit_type</th>\n",
       "      <th>Credit_Score</th>\n",
       "      <th>co-applicant_credit_type</th>\n",
       "      <th>age</th>\n",
       "      <th>submission_of_application</th>\n",
       "      <th>LTV</th>\n",
       "      <th>Region</th>\n",
       "      <th>Security_Type</th>\n",
       "      <th>Status</th>\n",
       "      <th>dtir1</th>\n",
       "    </tr>\n",
       "  </thead>\n",
       "  <tbody>\n",
       "    <tr>\n",
       "      <th>0</th>\n",
       "      <td>24890</td>\n",
       "      <td>2019</td>\n",
       "      <td>cf</td>\n",
       "      <td>Sex Not Available</td>\n",
       "      <td>nopre</td>\n",
       "      <td>type1</td>\n",
       "      <td>p1</td>\n",
       "      <td>l1</td>\n",
       "      <td>nopc</td>\n",
       "      <td>nob/c</td>\n",
       "      <td>...</td>\n",
       "      <td>EXP</td>\n",
       "      <td>758</td>\n",
       "      <td>CIB</td>\n",
       "      <td>25-34</td>\n",
       "      <td>to_inst</td>\n",
       "      <td>98.728814</td>\n",
       "      <td>south</td>\n",
       "      <td>direct</td>\n",
       "      <td>1</td>\n",
       "      <td>45.0</td>\n",
       "    </tr>\n",
       "    <tr>\n",
       "      <th>1</th>\n",
       "      <td>24891</td>\n",
       "      <td>2019</td>\n",
       "      <td>cf</td>\n",
       "      <td>Male</td>\n",
       "      <td>nopre</td>\n",
       "      <td>type2</td>\n",
       "      <td>p1</td>\n",
       "      <td>l1</td>\n",
       "      <td>nopc</td>\n",
       "      <td>b/c</td>\n",
       "      <td>...</td>\n",
       "      <td>EQUI</td>\n",
       "      <td>552</td>\n",
       "      <td>EXP</td>\n",
       "      <td>55-64</td>\n",
       "      <td>to_inst</td>\n",
       "      <td>NaN</td>\n",
       "      <td>North</td>\n",
       "      <td>direct</td>\n",
       "      <td>1</td>\n",
       "      <td>NaN</td>\n",
       "    </tr>\n",
       "    <tr>\n",
       "      <th>2</th>\n",
       "      <td>24892</td>\n",
       "      <td>2019</td>\n",
       "      <td>cf</td>\n",
       "      <td>Male</td>\n",
       "      <td>pre</td>\n",
       "      <td>type1</td>\n",
       "      <td>p1</td>\n",
       "      <td>l1</td>\n",
       "      <td>nopc</td>\n",
       "      <td>nob/c</td>\n",
       "      <td>...</td>\n",
       "      <td>EXP</td>\n",
       "      <td>834</td>\n",
       "      <td>CIB</td>\n",
       "      <td>35-44</td>\n",
       "      <td>to_inst</td>\n",
       "      <td>80.019685</td>\n",
       "      <td>south</td>\n",
       "      <td>direct</td>\n",
       "      <td>0</td>\n",
       "      <td>46.0</td>\n",
       "    </tr>\n",
       "    <tr>\n",
       "      <th>3</th>\n",
       "      <td>24893</td>\n",
       "      <td>2019</td>\n",
       "      <td>cf</td>\n",
       "      <td>Male</td>\n",
       "      <td>nopre</td>\n",
       "      <td>type1</td>\n",
       "      <td>p4</td>\n",
       "      <td>l1</td>\n",
       "      <td>nopc</td>\n",
       "      <td>nob/c</td>\n",
       "      <td>...</td>\n",
       "      <td>EXP</td>\n",
       "      <td>587</td>\n",
       "      <td>CIB</td>\n",
       "      <td>45-54</td>\n",
       "      <td>not_inst</td>\n",
       "      <td>69.376900</td>\n",
       "      <td>North</td>\n",
       "      <td>direct</td>\n",
       "      <td>0</td>\n",
       "      <td>42.0</td>\n",
       "    </tr>\n",
       "    <tr>\n",
       "      <th>4</th>\n",
       "      <td>24894</td>\n",
       "      <td>2019</td>\n",
       "      <td>cf</td>\n",
       "      <td>Joint</td>\n",
       "      <td>pre</td>\n",
       "      <td>type1</td>\n",
       "      <td>p1</td>\n",
       "      <td>l1</td>\n",
       "      <td>nopc</td>\n",
       "      <td>nob/c</td>\n",
       "      <td>...</td>\n",
       "      <td>CRIF</td>\n",
       "      <td>602</td>\n",
       "      <td>EXP</td>\n",
       "      <td>25-34</td>\n",
       "      <td>not_inst</td>\n",
       "      <td>91.886544</td>\n",
       "      <td>North</td>\n",
       "      <td>direct</td>\n",
       "      <td>0</td>\n",
       "      <td>39.0</td>\n",
       "    </tr>\n",
       "  </tbody>\n",
       "</table>\n",
       "<p>5 rows × 34 columns</p>\n",
       "</div>"
      ],
      "text/plain": [
       "      ID  year loan_limit             Gender approv_in_adv loan_type  \\\n",
       "0  24890  2019         cf  Sex Not Available         nopre     type1   \n",
       "1  24891  2019         cf               Male         nopre     type2   \n",
       "2  24892  2019         cf               Male           pre     type1   \n",
       "3  24893  2019         cf               Male         nopre     type1   \n",
       "4  24894  2019         cf              Joint           pre     type1   \n",
       "\n",
       "  loan_purpose Credit_Worthiness open_credit business_or_commercial  ...  \\\n",
       "0           p1                l1        nopc                  nob/c  ...   \n",
       "1           p1                l1        nopc                    b/c  ...   \n",
       "2           p1                l1        nopc                  nob/c  ...   \n",
       "3           p4                l1        nopc                  nob/c  ...   \n",
       "4           p1                l1        nopc                  nob/c  ...   \n",
       "\n",
       "   credit_type  Credit_Score  co-applicant_credit_type    age  \\\n",
       "0          EXP           758                       CIB  25-34   \n",
       "1         EQUI           552                       EXP  55-64   \n",
       "2          EXP           834                       CIB  35-44   \n",
       "3          EXP           587                       CIB  45-54   \n",
       "4         CRIF           602                       EXP  25-34   \n",
       "\n",
       "   submission_of_application        LTV Region Security_Type  Status dtir1  \n",
       "0                    to_inst  98.728814  south        direct       1  45.0  \n",
       "1                    to_inst        NaN  North        direct       1   NaN  \n",
       "2                    to_inst  80.019685  south        direct       0  46.0  \n",
       "3                   not_inst  69.376900  North        direct       0  42.0  \n",
       "4                   not_inst  91.886544  North        direct       0  39.0  \n",
       "\n",
       "[5 rows x 34 columns]"
      ]
     },
     "execution_count": 3,
     "metadata": {},
     "output_type": "execute_result"
    }
   ],
   "source": [
    "dataset = pd.read_csv(\"sample_input/loan_approval_keep_as_zip.zip\", low_memory=False)\n",
    "dataset.head()"
   ]
  },
  {
   "cell_type": "markdown",
   "id": "e3319715",
   "metadata": {},
   "source": [
    "**Check the column names**"
   ]
  },
  {
   "cell_type": "code",
   "execution_count": 4,
   "id": "ed110f63",
   "metadata": {},
   "outputs": [
    {
     "data": {
      "text/plain": [
       "array(['Credit_Score', 'Credit_Worthiness', 'Gender', 'ID',\n",
       "       'Interest_rate_spread', 'LTV', 'Neg_ammortization', 'Region',\n",
       "       'Secured_by', 'Security_Type', 'Status', 'Upfront_charges', 'age',\n",
       "       'approv_in_adv', 'business_or_commercial',\n",
       "       'co-applicant_credit_type', 'construction_type', 'credit_type',\n",
       "       'dtir1', 'income', 'interest_only', 'loan_amount', 'loan_limit',\n",
       "       'loan_purpose', 'loan_type', 'lump_sum_payment', 'occupancy_type',\n",
       "       'open_credit', 'property_value', 'rate_of_interest',\n",
       "       'submission_of_application', 'term', 'total_units', 'year'],\n",
       "      dtype=object)"
      ]
     },
     "execution_count": 4,
     "metadata": {},
     "output_type": "execute_result"
    }
   ],
   "source": [
    "np.sort(dataset.columns.values)"
   ]
  },
  {
   "cell_type": "markdown",
   "id": "4c08b60b",
   "metadata": {},
   "source": [
    "**The Status variable tells us whether the loan was approved or rejected**. Rejected is 1, while Approved is 0."
   ]
  },
  {
   "cell_type": "code",
   "execution_count": 5,
   "id": "ce44f2ec",
   "metadata": {},
   "outputs": [],
   "source": [
    "dataset[\"Approval\"] = 1-dataset['Status']"
   ]
  },
  {
   "cell_type": "markdown",
   "id": "b1df6a21",
   "metadata": {},
   "source": [
    "## Explore the dataset\n",
    "**This uses the data exploration code, which should be automatically downloaded and available if you are using the Gryphon tool** "
   ]
  },
  {
   "cell_type": "code",
   "execution_count": 6,
   "id": "e1131aab",
   "metadata": {},
   "outputs": [],
   "source": [
    "from data_exploration import dataset_overview"
   ]
  },
  {
   "cell_type": "code",
   "execution_count": 7,
   "id": "d27ef7f5",
   "metadata": {
    "scrolled": true
   },
   "outputs": [
    {
     "data": {
      "text/html": [
       "<div>\n",
       "<style scoped>\n",
       "    .dataframe tbody tr th:only-of-type {\n",
       "        vertical-align: middle;\n",
       "    }\n",
       "\n",
       "    .dataframe tbody tr th {\n",
       "        vertical-align: top;\n",
       "    }\n",
       "\n",
       "    .dataframe thead th {\n",
       "        text-align: right;\n",
       "    }\n",
       "</style>\n",
       "<table border=\"1\" class=\"dataframe\">\n",
       "  <thead>\n",
       "    <tr style=\"text-align: right;\">\n",
       "      <th></th>\n",
       "      <th>ID</th>\n",
       "      <th>year</th>\n",
       "      <th>loan_amount</th>\n",
       "      <th>rate_of_interest</th>\n",
       "      <th>Interest_rate_spread</th>\n",
       "      <th>Upfront_charges</th>\n",
       "      <th>term</th>\n",
       "      <th>property_value</th>\n",
       "      <th>income</th>\n",
       "      <th>Credit_Score</th>\n",
       "      <th>LTV</th>\n",
       "      <th>Status</th>\n",
       "      <th>dtir1</th>\n",
       "      <th>Approval</th>\n",
       "    </tr>\n",
       "  </thead>\n",
       "  <tbody>\n",
       "    <tr>\n",
       "      <th>data type</th>\n",
       "      <td>int64</td>\n",
       "      <td>int64</td>\n",
       "      <td>int64</td>\n",
       "      <td>float64</td>\n",
       "      <td>float64</td>\n",
       "      <td>float64</td>\n",
       "      <td>float64</td>\n",
       "      <td>float64</td>\n",
       "      <td>float64</td>\n",
       "      <td>int64</td>\n",
       "      <td>float64</td>\n",
       "      <td>int64</td>\n",
       "      <td>float64</td>\n",
       "      <td>int64</td>\n",
       "    </tr>\n",
       "    <tr>\n",
       "      <th>count</th>\n",
       "      <td>148670</td>\n",
       "      <td>148670</td>\n",
       "      <td>148670</td>\n",
       "      <td>112231</td>\n",
       "      <td>112031</td>\n",
       "      <td>109028</td>\n",
       "      <td>148629</td>\n",
       "      <td>133572</td>\n",
       "      <td>139520</td>\n",
       "      <td>148670</td>\n",
       "      <td>133572</td>\n",
       "      <td>148670</td>\n",
       "      <td>124549</td>\n",
       "      <td>148670</td>\n",
       "    </tr>\n",
       "    <tr>\n",
       "      <th># non-missing</th>\n",
       "      <td>148670</td>\n",
       "      <td>148670</td>\n",
       "      <td>148670</td>\n",
       "      <td>112231</td>\n",
       "      <td>112031</td>\n",
       "      <td>109028</td>\n",
       "      <td>148629</td>\n",
       "      <td>133572</td>\n",
       "      <td>139520</td>\n",
       "      <td>148670</td>\n",
       "      <td>133572</td>\n",
       "      <td>148670</td>\n",
       "      <td>124549</td>\n",
       "      <td>148670</td>\n",
       "    </tr>\n",
       "    <tr>\n",
       "      <th># missing</th>\n",
       "      <td>0</td>\n",
       "      <td>0</td>\n",
       "      <td>0</td>\n",
       "      <td>36439</td>\n",
       "      <td>36639</td>\n",
       "      <td>39642</td>\n",
       "      <td>41</td>\n",
       "      <td>15098</td>\n",
       "      <td>9150</td>\n",
       "      <td>0</td>\n",
       "      <td>15098</td>\n",
       "      <td>0</td>\n",
       "      <td>24121</td>\n",
       "      <td>0</td>\n",
       "    </tr>\n",
       "    <tr>\n",
       "      <th># of 0s</th>\n",
       "      <td>0</td>\n",
       "      <td>0</td>\n",
       "      <td>0</td>\n",
       "      <td>1</td>\n",
       "      <td>9</td>\n",
       "      <td>20770</td>\n",
       "      <td>0</td>\n",
       "      <td>0</td>\n",
       "      <td>1260</td>\n",
       "      <td>0</td>\n",
       "      <td>0</td>\n",
       "      <td>112031</td>\n",
       "      <td>0</td>\n",
       "      <td>36639</td>\n",
       "    </tr>\n",
       "    <tr>\n",
       "      <th># unique values</th>\n",
       "      <td>148670</td>\n",
       "      <td>1</td>\n",
       "      <td>211</td>\n",
       "      <td>131</td>\n",
       "      <td>22516</td>\n",
       "      <td>58271</td>\n",
       "      <td>26</td>\n",
       "      <td>385</td>\n",
       "      <td>1001</td>\n",
       "      <td>401</td>\n",
       "      <td>8484</td>\n",
       "      <td>2</td>\n",
       "      <td>57</td>\n",
       "      <td>2</td>\n",
       "    </tr>\n",
       "    <tr>\n",
       "      <th>sum</th>\n",
       "      <td>14751706415.0</td>\n",
       "      <td>300164730.0</td>\n",
       "      <td>49227275000.0</td>\n",
       "      <td>454027.795</td>\n",
       "      <td>49479.1253</td>\n",
       "      <td>351614877.69</td>\n",
       "      <td>49811015.0</td>\n",
       "      <td>66504626000.0</td>\n",
       "      <td>970687920.0</td>\n",
       "      <td>104037646.0</td>\n",
       "      <td>9716889.799</td>\n",
       "      <td>36639.0</td>\n",
       "      <td>4699599.0</td>\n",
       "      <td>112031.0</td>\n",
       "    </tr>\n",
       "    <tr>\n",
       "      <th>mean</th>\n",
       "      <td>99224.5</td>\n",
       "      <td>2019.0</td>\n",
       "      <td>331117.743997</td>\n",
       "      <td>4.045476</td>\n",
       "      <td>0.441656</td>\n",
       "      <td>3224.996127</td>\n",
       "      <td>335.136582</td>\n",
       "      <td>497893.465696</td>\n",
       "      <td>6957.338876</td>\n",
       "      <td>699.789103</td>\n",
       "      <td>72.746457</td>\n",
       "      <td>0.246445</td>\n",
       "      <td>37.732932</td>\n",
       "      <td>0.753555</td>\n",
       "    </tr>\n",
       "    <tr>\n",
       "      <th>standard deviation</th>\n",
       "      <td>42917.476598</td>\n",
       "      <td>0.0</td>\n",
       "      <td>183909.310127</td>\n",
       "      <td>0.561391</td>\n",
       "      <td>0.513043</td>\n",
       "      <td>3251.12151</td>\n",
       "      <td>58.409084</td>\n",
       "      <td>359935.315562</td>\n",
       "      <td>6496.586382</td>\n",
       "      <td>115.875857</td>\n",
       "      <td>39.967603</td>\n",
       "      <td>0.430942</td>\n",
       "      <td>10.545435</td>\n",
       "      <td>0.430942</td>\n",
       "    </tr>\n",
       "    <tr>\n",
       "      <th>skewness</th>\n",
       "      <td>0.0</td>\n",
       "      <td>0.0</td>\n",
       "      <td>1.666998</td>\n",
       "      <td>0.388406</td>\n",
       "      <td>0.280762</td>\n",
       "      <td>1.754076</td>\n",
       "      <td>-2.174822</td>\n",
       "      <td>4.586276</td>\n",
       "      <td>17.307695</td>\n",
       "      <td>0.004767</td>\n",
       "      <td>120.615337</td>\n",
       "      <td>1.176762</td>\n",
       "      <td>-0.551465</td>\n",
       "      <td>-1.176762</td>\n",
       "    </tr>\n",
       "    <tr>\n",
       "      <th>mode (first)</th>\n",
       "      <td>24890.0</td>\n",
       "      <td>2019.0</td>\n",
       "      <td>206500.0</td>\n",
       "      <td>3.99</td>\n",
       "      <td>-0.028</td>\n",
       "      <td>0.0</td>\n",
       "      <td>360.0</td>\n",
       "      <td>308000.0</td>\n",
       "      <td>0.0</td>\n",
       "      <td>763.0</td>\n",
       "      <td>81.25</td>\n",
       "      <td>0.0</td>\n",
       "      <td>37.0</td>\n",
       "      <td>1.0</td>\n",
       "    </tr>\n",
       "    <tr>\n",
       "      <th>min</th>\n",
       "      <td>24890.0</td>\n",
       "      <td>2019.0</td>\n",
       "      <td>16500.0</td>\n",
       "      <td>0.0</td>\n",
       "      <td>-3.638</td>\n",
       "      <td>0.0</td>\n",
       "      <td>96.0</td>\n",
       "      <td>8000.0</td>\n",
       "      <td>0.0</td>\n",
       "      <td>500.0</td>\n",
       "      <td>0.967478</td>\n",
       "      <td>0.0</td>\n",
       "      <td>5.0</td>\n",
       "      <td>0.0</td>\n",
       "    </tr>\n",
       "    <tr>\n",
       "      <th>25%</th>\n",
       "      <td>62057.25</td>\n",
       "      <td>2019.0</td>\n",
       "      <td>196500.0</td>\n",
       "      <td>3.625</td>\n",
       "      <td>0.076</td>\n",
       "      <td>581.49</td>\n",
       "      <td>360.0</td>\n",
       "      <td>268000.0</td>\n",
       "      <td>3720.0</td>\n",
       "      <td>599.0</td>\n",
       "      <td>60.47486</td>\n",
       "      <td>0.0</td>\n",
       "      <td>31.0</td>\n",
       "      <td>1.0</td>\n",
       "    </tr>\n",
       "    <tr>\n",
       "      <th>50%</th>\n",
       "      <td>99224.5</td>\n",
       "      <td>2019.0</td>\n",
       "      <td>296500.0</td>\n",
       "      <td>3.99</td>\n",
       "      <td>0.3904</td>\n",
       "      <td>2596.45</td>\n",
       "      <td>360.0</td>\n",
       "      <td>418000.0</td>\n",
       "      <td>5760.0</td>\n",
       "      <td>699.0</td>\n",
       "      <td>75.13587</td>\n",
       "      <td>0.0</td>\n",
       "      <td>39.0</td>\n",
       "      <td>1.0</td>\n",
       "    </tr>\n",
       "    <tr>\n",
       "      <th>75%</th>\n",
       "      <td>136391.75</td>\n",
       "      <td>2019.0</td>\n",
       "      <td>436500.0</td>\n",
       "      <td>4.375</td>\n",
       "      <td>0.7754</td>\n",
       "      <td>4812.5</td>\n",
       "      <td>360.0</td>\n",
       "      <td>628000.0</td>\n",
       "      <td>8520.0</td>\n",
       "      <td>800.0</td>\n",
       "      <td>86.184211</td>\n",
       "      <td>0.0</td>\n",
       "      <td>45.0</td>\n",
       "      <td>1.0</td>\n",
       "    </tr>\n",
       "    <tr>\n",
       "      <th>max</th>\n",
       "      <td>173559.0</td>\n",
       "      <td>2019.0</td>\n",
       "      <td>3576500.0</td>\n",
       "      <td>8.0</td>\n",
       "      <td>3.357</td>\n",
       "      <td>60000.0</td>\n",
       "      <td>360.0</td>\n",
       "      <td>16508000.0</td>\n",
       "      <td>578580.0</td>\n",
       "      <td>900.0</td>\n",
       "      <td>7831.25</td>\n",
       "      <td>1.0</td>\n",
       "      <td>61.0</td>\n",
       "      <td>1.0</td>\n",
       "    </tr>\n",
       "  </tbody>\n",
       "</table>\n",
       "</div>"
      ],
      "text/plain": [
       "                               ID         year    loan_amount  \\\n",
       "data type                   int64        int64          int64   \n",
       "count                      148670       148670         148670   \n",
       "# non-missing              148670       148670         148670   \n",
       "# missing                       0            0              0   \n",
       "# of 0s                         0            0              0   \n",
       "# unique values            148670            1            211   \n",
       "sum                 14751706415.0  300164730.0  49227275000.0   \n",
       "mean                      99224.5       2019.0  331117.743997   \n",
       "standard deviation   42917.476598          0.0  183909.310127   \n",
       "skewness                      0.0          0.0       1.666998   \n",
       "mode (first)              24890.0       2019.0       206500.0   \n",
       "min                       24890.0       2019.0        16500.0   \n",
       "25%                      62057.25       2019.0       196500.0   \n",
       "50%                       99224.5       2019.0       296500.0   \n",
       "75%                     136391.75       2019.0       436500.0   \n",
       "max                      173559.0       2019.0      3576500.0   \n",
       "\n",
       "                   rate_of_interest Interest_rate_spread Upfront_charges  \\\n",
       "data type                   float64              float64         float64   \n",
       "count                        112231               112031          109028   \n",
       "# non-missing                112231               112031          109028   \n",
       "# missing                     36439                36639           39642   \n",
       "# of 0s                           1                    9           20770   \n",
       "# unique values                 131                22516           58271   \n",
       "sum                      454027.795           49479.1253    351614877.69   \n",
       "mean                       4.045476             0.441656     3224.996127   \n",
       "standard deviation         0.561391             0.513043      3251.12151   \n",
       "skewness                   0.388406             0.280762        1.754076   \n",
       "mode (first)                   3.99               -0.028             0.0   \n",
       "min                             0.0               -3.638             0.0   \n",
       "25%                           3.625                0.076          581.49   \n",
       "50%                            3.99               0.3904         2596.45   \n",
       "75%                           4.375               0.7754          4812.5   \n",
       "max                             8.0                3.357         60000.0   \n",
       "\n",
       "                          term property_value       income Credit_Score  \\\n",
       "data type              float64        float64      float64        int64   \n",
       "count                   148629         133572       139520       148670   \n",
       "# non-missing           148629         133572       139520       148670   \n",
       "# missing                   41          15098         9150            0   \n",
       "# of 0s                      0              0         1260            0   \n",
       "# unique values             26            385         1001          401   \n",
       "sum                 49811015.0  66504626000.0  970687920.0  104037646.0   \n",
       "mean                335.136582  497893.465696  6957.338876   699.789103   \n",
       "standard deviation   58.409084  359935.315562  6496.586382   115.875857   \n",
       "skewness             -2.174822       4.586276    17.307695     0.004767   \n",
       "mode (first)             360.0       308000.0          0.0        763.0   \n",
       "min                       96.0         8000.0          0.0        500.0   \n",
       "25%                      360.0       268000.0       3720.0        599.0   \n",
       "50%                      360.0       418000.0       5760.0        699.0   \n",
       "75%                      360.0       628000.0       8520.0        800.0   \n",
       "max                      360.0     16508000.0     578580.0        900.0   \n",
       "\n",
       "                            LTV    Status      dtir1  Approval  \n",
       "data type               float64     int64    float64     int64  \n",
       "count                    133572    148670     124549    148670  \n",
       "# non-missing            133572    148670     124549    148670  \n",
       "# missing                 15098         0      24121         0  \n",
       "# of 0s                       0    112031          0     36639  \n",
       "# unique values            8484         2         57         2  \n",
       "sum                 9716889.799   36639.0  4699599.0  112031.0  \n",
       "mean                  72.746457  0.246445  37.732932  0.753555  \n",
       "standard deviation    39.967603  0.430942  10.545435  0.430942  \n",
       "skewness             120.615337  1.176762  -0.551465 -1.176762  \n",
       "mode (first)              81.25       0.0       37.0       1.0  \n",
       "min                    0.967478       0.0        5.0       0.0  \n",
       "25%                    60.47486       0.0       31.0       1.0  \n",
       "50%                    75.13587       0.0       39.0       1.0  \n",
       "75%                   86.184211       0.0       45.0       1.0  \n",
       "max                     7831.25       1.0       61.0       1.0  "
      ]
     },
     "metadata": {},
     "output_type": "display_data"
    }
   ],
   "source": [
    "num_info = dataset_overview.get_numerical_info(dataset)"
   ]
  },
  {
   "cell_type": "code",
   "execution_count": 8,
   "id": "8c805249",
   "metadata": {},
   "outputs": [
    {
     "data": {
      "text/html": [
       "<div>\n",
       "<style scoped>\n",
       "    .dataframe tbody tr th:only-of-type {\n",
       "        vertical-align: middle;\n",
       "    }\n",
       "\n",
       "    .dataframe tbody tr th {\n",
       "        vertical-align: top;\n",
       "    }\n",
       "\n",
       "    .dataframe thead th {\n",
       "        text-align: right;\n",
       "    }\n",
       "</style>\n",
       "<table border=\"1\" class=\"dataframe\">\n",
       "  <thead>\n",
       "    <tr style=\"text-align: right;\">\n",
       "      <th></th>\n",
       "      <th>loan_limit</th>\n",
       "      <th>Gender</th>\n",
       "      <th>approv_in_adv</th>\n",
       "      <th>loan_type</th>\n",
       "      <th>loan_purpose</th>\n",
       "      <th>Credit_Worthiness</th>\n",
       "      <th>open_credit</th>\n",
       "      <th>business_or_commercial</th>\n",
       "      <th>Neg_ammortization</th>\n",
       "      <th>interest_only</th>\n",
       "      <th>...</th>\n",
       "      <th>construction_type</th>\n",
       "      <th>occupancy_type</th>\n",
       "      <th>Secured_by</th>\n",
       "      <th>total_units</th>\n",
       "      <th>credit_type</th>\n",
       "      <th>co-applicant_credit_type</th>\n",
       "      <th>age</th>\n",
       "      <th>submission_of_application</th>\n",
       "      <th>Region</th>\n",
       "      <th>Security_Type</th>\n",
       "    </tr>\n",
       "  </thead>\n",
       "  <tbody>\n",
       "    <tr>\n",
       "      <th>data type</th>\n",
       "      <td>object</td>\n",
       "      <td>object</td>\n",
       "      <td>object</td>\n",
       "      <td>object</td>\n",
       "      <td>object</td>\n",
       "      <td>object</td>\n",
       "      <td>object</td>\n",
       "      <td>object</td>\n",
       "      <td>object</td>\n",
       "      <td>object</td>\n",
       "      <td>...</td>\n",
       "      <td>object</td>\n",
       "      <td>object</td>\n",
       "      <td>object</td>\n",
       "      <td>object</td>\n",
       "      <td>object</td>\n",
       "      <td>object</td>\n",
       "      <td>object</td>\n",
       "      <td>object</td>\n",
       "      <td>object</td>\n",
       "      <td>object</td>\n",
       "    </tr>\n",
       "    <tr>\n",
       "      <th>count</th>\n",
       "      <td>145326</td>\n",
       "      <td>148670</td>\n",
       "      <td>147762</td>\n",
       "      <td>148670</td>\n",
       "      <td>148536</td>\n",
       "      <td>148670</td>\n",
       "      <td>148670</td>\n",
       "      <td>148670</td>\n",
       "      <td>148549</td>\n",
       "      <td>148670</td>\n",
       "      <td>...</td>\n",
       "      <td>148670</td>\n",
       "      <td>148670</td>\n",
       "      <td>148670</td>\n",
       "      <td>148670</td>\n",
       "      <td>148670</td>\n",
       "      <td>148670</td>\n",
       "      <td>148470</td>\n",
       "      <td>148470</td>\n",
       "      <td>148670</td>\n",
       "      <td>148670</td>\n",
       "    </tr>\n",
       "    <tr>\n",
       "      <th># non-missing</th>\n",
       "      <td>145326</td>\n",
       "      <td>148670</td>\n",
       "      <td>147762</td>\n",
       "      <td>148670</td>\n",
       "      <td>148536</td>\n",
       "      <td>148670</td>\n",
       "      <td>148670</td>\n",
       "      <td>148670</td>\n",
       "      <td>148549</td>\n",
       "      <td>148670</td>\n",
       "      <td>...</td>\n",
       "      <td>148670</td>\n",
       "      <td>148670</td>\n",
       "      <td>148670</td>\n",
       "      <td>148670</td>\n",
       "      <td>148670</td>\n",
       "      <td>148670</td>\n",
       "      <td>148470</td>\n",
       "      <td>148470</td>\n",
       "      <td>148670</td>\n",
       "      <td>148670</td>\n",
       "    </tr>\n",
       "    <tr>\n",
       "      <th># missing</th>\n",
       "      <td>3344</td>\n",
       "      <td>0</td>\n",
       "      <td>908</td>\n",
       "      <td>0</td>\n",
       "      <td>134</td>\n",
       "      <td>0</td>\n",
       "      <td>0</td>\n",
       "      <td>0</td>\n",
       "      <td>121</td>\n",
       "      <td>0</td>\n",
       "      <td>...</td>\n",
       "      <td>0</td>\n",
       "      <td>0</td>\n",
       "      <td>0</td>\n",
       "      <td>0</td>\n",
       "      <td>0</td>\n",
       "      <td>0</td>\n",
       "      <td>200</td>\n",
       "      <td>200</td>\n",
       "      <td>0</td>\n",
       "      <td>0</td>\n",
       "    </tr>\n",
       "    <tr>\n",
       "      <th># of blanks</th>\n",
       "      <td>0</td>\n",
       "      <td>0</td>\n",
       "      <td>0</td>\n",
       "      <td>0</td>\n",
       "      <td>0</td>\n",
       "      <td>0</td>\n",
       "      <td>0</td>\n",
       "      <td>0</td>\n",
       "      <td>0</td>\n",
       "      <td>0</td>\n",
       "      <td>...</td>\n",
       "      <td>0</td>\n",
       "      <td>0</td>\n",
       "      <td>0</td>\n",
       "      <td>0</td>\n",
       "      <td>0</td>\n",
       "      <td>0</td>\n",
       "      <td>0</td>\n",
       "      <td>0</td>\n",
       "      <td>0</td>\n",
       "      <td>0</td>\n",
       "    </tr>\n",
       "    <tr>\n",
       "      <th># unique values</th>\n",
       "      <td>2</td>\n",
       "      <td>4</td>\n",
       "      <td>2</td>\n",
       "      <td>3</td>\n",
       "      <td>4</td>\n",
       "      <td>2</td>\n",
       "      <td>2</td>\n",
       "      <td>2</td>\n",
       "      <td>2</td>\n",
       "      <td>2</td>\n",
       "      <td>...</td>\n",
       "      <td>2</td>\n",
       "      <td>3</td>\n",
       "      <td>2</td>\n",
       "      <td>4</td>\n",
       "      <td>4</td>\n",
       "      <td>2</td>\n",
       "      <td>7</td>\n",
       "      <td>2</td>\n",
       "      <td>4</td>\n",
       "      <td>2</td>\n",
       "    </tr>\n",
       "    <tr>\n",
       "      <th>most frequent</th>\n",
       "      <td>cf</td>\n",
       "      <td>Male</td>\n",
       "      <td>nopre</td>\n",
       "      <td>type1</td>\n",
       "      <td>p3</td>\n",
       "      <td>l1</td>\n",
       "      <td>nopc</td>\n",
       "      <td>nob/c</td>\n",
       "      <td>not_neg</td>\n",
       "      <td>not_int</td>\n",
       "      <td>...</td>\n",
       "      <td>sb</td>\n",
       "      <td>pr</td>\n",
       "      <td>home</td>\n",
       "      <td>1U</td>\n",
       "      <td>CIB</td>\n",
       "      <td>CIB</td>\n",
       "      <td>45-54</td>\n",
       "      <td>to_inst</td>\n",
       "      <td>North</td>\n",
       "      <td>direct</td>\n",
       "    </tr>\n",
       "    <tr>\n",
       "      <th>average length</th>\n",
       "      <td>2.089608</td>\n",
       "      <td>7.938239</td>\n",
       "      <td>4.676478</td>\n",
       "      <td>5.0</td>\n",
       "      <td>2.000901</td>\n",
       "      <td>2.0</td>\n",
       "      <td>3.99626</td>\n",
       "      <td>4.720697</td>\n",
       "      <td>6.996744</td>\n",
       "      <td>7.047824</td>\n",
       "      <td>...</td>\n",
       "      <td>2.0</td>\n",
       "      <td>2.0</td>\n",
       "      <td>4.0</td>\n",
       "      <td>2.0</td>\n",
       "      <td>3.398191</td>\n",
       "      <td>3.0</td>\n",
       "      <td>4.882801</td>\n",
       "      <td>7.348799</td>\n",
       "      <td>5.158532</td>\n",
       "      <td>6.000444</td>\n",
       "    </tr>\n",
       "    <tr>\n",
       "      <th>potentially numeric</th>\n",
       "      <td>No</td>\n",
       "      <td>No</td>\n",
       "      <td>No</td>\n",
       "      <td>No</td>\n",
       "      <td>No</td>\n",
       "      <td>No</td>\n",
       "      <td>No</td>\n",
       "      <td>No</td>\n",
       "      <td>No</td>\n",
       "      <td>No</td>\n",
       "      <td>...</td>\n",
       "      <td>No</td>\n",
       "      <td>No</td>\n",
       "      <td>No</td>\n",
       "      <td>No</td>\n",
       "      <td>No</td>\n",
       "      <td>No</td>\n",
       "      <td>No</td>\n",
       "      <td>No</td>\n",
       "      <td>No</td>\n",
       "      <td>No</td>\n",
       "    </tr>\n",
       "    <tr>\n",
       "      <th>potentially datetime</th>\n",
       "      <td>No</td>\n",
       "      <td>No</td>\n",
       "      <td>No</td>\n",
       "      <td>No</td>\n",
       "      <td>No</td>\n",
       "      <td>No</td>\n",
       "      <td>No</td>\n",
       "      <td>No</td>\n",
       "      <td>No</td>\n",
       "      <td>No</td>\n",
       "      <td>...</td>\n",
       "      <td>No</td>\n",
       "      <td>No</td>\n",
       "      <td>No</td>\n",
       "      <td>No</td>\n",
       "      <td>No</td>\n",
       "      <td>No</td>\n",
       "      <td>No</td>\n",
       "      <td>No</td>\n",
       "      <td>No</td>\n",
       "      <td>No</td>\n",
       "    </tr>\n",
       "  </tbody>\n",
       "</table>\n",
       "<p>10 rows × 21 columns</p>\n",
       "</div>"
      ],
      "text/plain": [
       "                     loan_limit    Gender approv_in_adv loan_type  \\\n",
       "data type                object    object        object    object   \n",
       "count                    145326    148670        147762    148670   \n",
       "# non-missing            145326    148670        147762    148670   \n",
       "# missing                  3344         0           908         0   \n",
       "# of blanks                   0         0             0         0   \n",
       "# unique values               2         4             2         3   \n",
       "most frequent                cf      Male         nopre     type1   \n",
       "average length         2.089608  7.938239      4.676478       5.0   \n",
       "potentially numeric          No        No            No        No   \n",
       "potentially datetime         No        No            No        No   \n",
       "\n",
       "                     loan_purpose Credit_Worthiness open_credit  \\\n",
       "data type                  object            object      object   \n",
       "count                      148536            148670      148670   \n",
       "# non-missing              148536            148670      148670   \n",
       "# missing                     134                 0           0   \n",
       "# of blanks                     0                 0           0   \n",
       "# unique values                 4                 2           2   \n",
       "most frequent                  p3                l1        nopc   \n",
       "average length           2.000901               2.0     3.99626   \n",
       "potentially numeric            No                No          No   \n",
       "potentially datetime           No                No          No   \n",
       "\n",
       "                     business_or_commercial Neg_ammortization interest_only  \\\n",
       "data type                            object            object        object   \n",
       "count                                148670            148549        148670   \n",
       "# non-missing                        148670            148549        148670   \n",
       "# missing                                 0               121             0   \n",
       "# of blanks                               0                 0             0   \n",
       "# unique values                           2                 2             2   \n",
       "most frequent                         nob/c           not_neg       not_int   \n",
       "average length                     4.720697          6.996744      7.047824   \n",
       "potentially numeric                      No                No            No   \n",
       "potentially datetime                     No                No            No   \n",
       "\n",
       "                      ... construction_type occupancy_type Secured_by  \\\n",
       "data type             ...            object         object     object   \n",
       "count                 ...            148670         148670     148670   \n",
       "# non-missing         ...            148670         148670     148670   \n",
       "# missing             ...                 0              0          0   \n",
       "# of blanks           ...                 0              0          0   \n",
       "# unique values       ...                 2              3          2   \n",
       "most frequent         ...                sb             pr       home   \n",
       "average length        ...               2.0            2.0        4.0   \n",
       "potentially numeric   ...                No             No         No   \n",
       "potentially datetime  ...                No             No         No   \n",
       "\n",
       "                     total_units credit_type co-applicant_credit_type  \\\n",
       "data type                 object      object                   object   \n",
       "count                     148670      148670                   148670   \n",
       "# non-missing             148670      148670                   148670   \n",
       "# missing                      0           0                        0   \n",
       "# of blanks                    0           0                        0   \n",
       "# unique values                4           4                        2   \n",
       "most frequent                 1U         CIB                      CIB   \n",
       "average length               2.0    3.398191                      3.0   \n",
       "potentially numeric           No          No                       No   \n",
       "potentially datetime          No          No                       No   \n",
       "\n",
       "                           age submission_of_application    Region  \\\n",
       "data type               object                    object    object   \n",
       "count                   148470                    148470    148670   \n",
       "# non-missing           148470                    148470    148670   \n",
       "# missing                  200                       200         0   \n",
       "# of blanks                  0                         0         0   \n",
       "# unique values              7                         2         4   \n",
       "most frequent            45-54                   to_inst     North   \n",
       "average length        4.882801                  7.348799  5.158532   \n",
       "potentially numeric         No                        No        No   \n",
       "potentially datetime        No                        No        No   \n",
       "\n",
       "                     Security_Type  \n",
       "data type                   object  \n",
       "count                       148670  \n",
       "# non-missing               148670  \n",
       "# missing                        0  \n",
       "# of blanks                      0  \n",
       "# unique values                  2  \n",
       "most frequent               direct  \n",
       "average length            6.000444  \n",
       "potentially numeric             No  \n",
       "potentially datetime            No  \n",
       "\n",
       "[10 rows x 21 columns]"
      ]
     },
     "metadata": {},
     "output_type": "display_data"
    }
   ],
   "source": [
    "cat_info = dataset_overview.get_non_numerical_info(dataset)"
   ]
  },
  {
   "cell_type": "markdown",
   "id": "c2ea002d",
   "metadata": {},
   "source": [
    "## Target variable analysis\n",
    "\n",
    "The target variable is the 'Approval' variable, where 1 indicates Approval and 0 indicates Decline. \n",
    "\n",
    "For more in-depth analysis, use the functions provided by the data exploration template."
   ]
  },
  {
   "cell_type": "code",
   "execution_count": 9,
   "id": "a4774e92",
   "metadata": {},
   "outputs": [
    {
     "data": {
      "image/png": "[encoded data removed]",
      "text/plain": [
       "<Figure size 432x288 with 1 Axes>"
      ]
     },
     "metadata": {
      "needs_background": "light"
     },
     "output_type": "display_data"
    }
   ],
   "source": [
    "fig, ax = plt.subplots()\n",
    "ax.hist(dataset['Approval'])\n",
    "ax.set_xlabel(\"Approval\")\n",
    "ax.set_ylabel(\"Frequency\")\n",
    "plt.show()"
   ]
  },
  {
   "cell_type": "code",
   "execution_count": 10,
   "id": "91d5c7e9",
   "metadata": {},
   "outputs": [
    {
     "data": {
      "text/plain": [
       "1    112031\n",
       "0     36639\n",
       "Name: Approval, dtype: int64"
      ]
     },
     "execution_count": 10,
     "metadata": {},
     "output_type": "execute_result"
    }
   ],
   "source": [
    "# Or a simple count\n",
    "dataset['Approval'].value_counts()"
   ]
  },
  {
   "cell_type": "markdown",
   "id": "72594f0c",
   "metadata": {},
   "source": [
    "# Bivariate Analysis"
   ]
  },
  {
   "cell_type": "markdown",
   "id": "0a5af331",
   "metadata": {},
   "source": [
    "## Continuous x-variables\n",
    "\n",
    "Unlike for a continuous target variable, we cannot create a scatter plot, as the target variable is always 0 or 1. \n",
    "\n",
    "**Here is how a scatterplot would look like, between Approval and property_value**. We limit to a sample of 1000 observations here."
   ]
  },
  {
   "cell_type": "code",
   "execution_count": 11,
   "id": "48d97d3e",
   "metadata": {},
   "outputs": [
    {
     "name": "stdout",
     "output_type": "stream",
     "text": [
      "Sampled 1000 out of 148670 observations\n"
     ]
    },
    {
     "data": {
      "image/png": "[encoded data removed]",
      "text/plain": [
       "<Figure size 432x288 with 1 Axes>"
      ]
     },
     "metadata": {
      "needs_background": "light"
     },
     "output_type": "display_data"
    }
   ],
   "source": [
    "x_variable = \"property_value\"\n",
    "target = \"Approval\"\n",
    "N = 1000 # Maximum number of observations\n",
    "\n",
    "plot_data = dataset[[target, x_variable]]\n",
    "if plot_data.shape[0] > N:\n",
    "    plot_data = plot_data.sample(N)\n",
    "    print(\"Sampled {} out of {} observations\".format(N, dataset.shape[0]))\n",
    "    \n",
    "fig, ax = plt.subplots() \n",
    "ax.scatter(x=plot_data[x_variable], y=plot_data[target], alpha=0.5, s=2)\n",
    "ax.set_ylabel(target)\n",
    "ax.set_xlabel(x_variable);"
   ]
  },
  {
   "cell_type": "markdown",
   "id": "14bd3a58",
   "metadata": {},
   "source": [
    "Clearly, it is difficult to identify any clear patterns in the above. "
   ]
  },
  {
   "cell_type": "markdown",
   "id": "3e21f4a7",
   "metadata": {},
   "source": [
    "### Bivariate plot\n",
    "\n",
    "A **bivariate plot** where the average Approval rate is calculated for each bin in the x-variable can show a clearer relationship between the target variable and a contintuous x-variable to help decide on the appropriate transformation.\n",
    "\n",
    "For logistic regression, it is often useful to look at the y-axis as log-odds in addition to the proportion.\n",
    "\n",
    "If needed, we can also use a different scale for the x-axis.\n",
    "\n",
    "**Below we show a bivariate plot between Approval rate and property_value, without any axis transforms**"
   ]
  },
  {
   "cell_type": "code",
   "execution_count": 12,
   "id": "ed2fcbe3",
   "metadata": {},
   "outputs": [
    {
     "data": {
      "image/png": "[encoded data removed]",
      "text/plain": [
       "<Figure size 432x288 with 1 Axes>"
      ]
     },
     "metadata": {
      "needs_background": "light"
     },
     "output_type": "display_data"
    }
   ],
   "source": [
    "x_variable = \"property_value\"\n",
    "target = \"Approval\"\n",
    "fig, plotdata = bivariate_plots_categorical.bivariate_continuous(dataset, target, x_variable, num_buckets=20, \n",
    "                                                                y_scale='linear', x_scale='linear', with_count=False, header=None)"
   ]
  },
  {
   "cell_type": "markdown",
   "id": "07cc058a",
   "metadata": {},
   "source": [
    "**We can easily change the y-axis to log-odds by using the logit scale**"
   ]
  },
  {
   "cell_type": "code",
   "execution_count": 13,
   "id": "b929553e",
   "metadata": {},
   "outputs": [
    {
     "data": {
      "image/png": "[encoded data removed]",
      "text/plain": [
       "<Figure size 432x288 with 1 Axes>"
      ]
     },
     "metadata": {
      "needs_background": "light"
     },
     "output_type": "display_data"
    }
   ],
   "source": [
    "x_variable = \"property_value\"\n",
    "target = \"Approval\"\n",
    "fig, plotdata = bivariate_plots_categorical.bivariate_continuous(dataset, target, x_variable, num_buckets=20, \n",
    "                                                                y_scale='logit', x_scale='linear', with_count=False, header=None)"
   ]
  },
  {
   "cell_type": "markdown",
   "id": "e8a88cbe",
   "metadata": {},
   "source": [
    "**There is a positive correlation between Approval Rate and Property value up to 600K, where it flattens out, and for the highest property values, the approval rate is lower**\n",
    "\n",
    "Intuitively speaking, property_value is likely indirectly related to approval rate. Here we plot the bivariate plot for income."
   ]
  },
  {
   "cell_type": "code",
   "execution_count": 14,
   "id": "51fb36c3",
   "metadata": {},
   "outputs": [
    {
     "data": {
      "image/png": "[encoded data removed]",
      "text/plain": [
       "<Figure size 432x288 with 1 Axes>"
      ]
     },
     "metadata": {
      "needs_background": "light"
     },
     "output_type": "display_data"
    }
   ],
   "source": [
    "x_variable = \"income\"\n",
    "target = \"Approval\"\n",
    "fig, plotdata = bivariate_plots_categorical.bivariate_continuous(dataset, target, x_variable, num_buckets=20, \n",
    "                                                                y_scale='logit', x_scale='linear', with_count=False, header=None)"
   ]
  },
  {
   "cell_type": "markdown",
   "id": "cc75073e",
   "metadata": {},
   "source": [
    "**See the doc strings for more information**"
   ]
  },
  {
   "cell_type": "code",
   "execution_count": 15,
   "id": "1930aeaf",
   "metadata": {},
   "outputs": [
    {
     "name": "stdout",
     "output_type": "stream",
     "text": [
      "Help on function bivariate_continuous in module model_plots.bivariate_plots_categorical:\n",
      "\n",
      "bivariate_continuous(used_data, y_var, x_var, num_buckets=20, y_scale='linear', x_scale='linear', with_count=True, with_CI=False, lower=-inf, upper=inf, trendline=False, header=None)\n",
      "    Generates bivariate plots for continuous variables, where the data is bucketed based on x-variable percentiles.\n",
      "    Provides option to scale the y-axis and count of observations in each bucket (in case there is concentration)\n",
      "    :param used_data: a single pandas DataFrame containing the y-variable and the x-variable\n",
      "    :param y_var: a single string with the name of the y-variable\n",
      "    :param x_var: a single string with the name of the x-variable\n",
      "    :param num_buckets: Integer number of buckets (quantiles) for which to group the x-variable values\n",
      "    :param y_scale: Scale the y-axis, either: 'linear', 'log', 'logit', or 'symlog'\n",
      "    :param x_scale: Scale the x-axis, either: 'linear', 'log', 'logit', or 'symlog'\n",
      "    :param with_count: Boolean indicating whether bars representing number of observations should be\n",
      "    plotted on the secondary y-axis\n",
      "    :param with_CI: Boolean indicating whether approximate binomial confidence intervals should be provided\n",
      "    (Note that this is only valid for dependent variables that are 0 or 1\n",
      "    :param lower:\n",
      "        For with_CI: Lower probability\n",
      "    :param upper:\n",
      "        For with_CI: Upper probability\n",
      "    :param trendline: Boolean whether to include a linear trendline. Not possible with the 'symlog' scalar\n",
      "    :param header: Optional string for the main title of the plot\n",
      "    :return: Tuple of Figure and Pandas dataframe containing data for the figure\n",
      "\n"
     ]
    }
   ],
   "source": [
    "help(bivariate_plots_categorical.bivariate_continuous)"
   ]
  },
  {
   "cell_type": "markdown",
   "id": "daf45d06",
   "metadata": {},
   "source": [
    "## Categorical / Discrete x-variables\n",
    "\n",
    "For these variables, the data is grouped by each unique value. We can look at barchart and aggregated bivariate plot.\n",
    "\n",
    "Some plots, such as box plot and violin plot are only useful when the target variable is continuous.\n"
   ]
  },
  {
   "cell_type": "markdown",
   "id": "cf1a6052",
   "metadata": {},
   "source": [
    "### Barchart\n",
    "\n",
    "Compares the average dependent variable value by x-variable value"
   ]
  },
  {
   "cell_type": "code",
   "execution_count": 16,
   "id": "5586b17f",
   "metadata": {
    "scrolled": true
   },
   "outputs": [
    {
     "data": {
      "text/plain": [
       "Text(0.5, 0, 'total_units')"
      ]
     },
     "execution_count": 16,
     "metadata": {},
     "output_type": "execute_result"
    },
    {
     "data": {
      "image/png": "[encoded data removed]",
      "text/plain": [
       "<Figure size 432x288 with 1 Axes>"
      ]
     },
     "metadata": {
      "needs_background": "light"
     },
     "output_type": "display_data"
    }
   ],
   "source": [
    "x_variable = \"total_units\"\n",
    "target = \"Approval\"\n",
    "\n",
    "plot_data = dataset[[target, x_variable]].groupby(x_variable).mean()\n",
    "\n",
    "fig, ax = plt.subplots() \n",
    "ax.bar(x=plot_data.index, height=plot_data[target])\n",
    "ax.set_ylabel(target)\n",
    "ax.set_xlabel(x_variable)"
   ]
  },
  {
   "cell_type": "markdown",
   "id": "edf91588",
   "metadata": {},
   "source": [
    "### Bivariate plot - Categorical\n",
    "\n",
    "This plot is similar to the barplot, by showing the average target variable value by x-variable category, but it offers additional information such as number of observations, confidence intervals, etc. "
   ]
  },
  {
   "cell_type": "code",
   "execution_count": 17,
   "id": "c9dd9c8b",
   "metadata": {},
   "outputs": [
    {
     "data": {
      "image/png": "[encoded data removed]",
      "text/plain": [
       "<Figure size 432x288 with 2 Axes>"
      ]
     },
     "metadata": {},
     "output_type": "display_data"
    }
   ],
   "source": [
    "x_variable = \"total_units\"\n",
    "target = \"Approval\"\n",
    "fig, plotdata = bivariate_plots_categorical.bivariate_categorical(dataset, target, x_variable, discrete=False, \n",
    "                                                                  y_scale='linear', with_count=True, header=None)"
   ]
  },
  {
   "cell_type": "markdown",
   "id": "dc1f6ce3",
   "metadata": {},
   "source": [
    "**The bivariate plot provides the number of observations (grey shade), showing that 2-4 units are very rare in this dataset**"
   ]
  },
  {
   "cell_type": "markdown",
   "id": "03a72572",
   "metadata": {},
   "source": [
    "### Bivariate plot - Discrete\n",
    "\n",
    "Discrete plots are used for numerical x-variables whose values should be plotted separately. There we plot loan term. The chart also shows that most loands are 360 months (30 years), and some at 180 months, 240 months, and 300 months. With the 300 months having a much lower approval rate. "
   ]
  },
  {
   "cell_type": "code",
   "execution_count": 18,
   "id": "cc8f761b",
   "metadata": {},
   "outputs": [
    {
     "data": {
      "image/png": "[encoded data removed]",
      "text/plain": [
       "<Figure size 432x288 with 2 Axes>"
      ]
     },
     "metadata": {},
     "output_type": "display_data"
    }
   ],
   "source": [
    "x_variable = \"term\"\n",
    "target = \"Approval\"\n",
    "fig, plotdata = bivariate_plots_categorical.bivariate_categorical(dataset, target, x_variable, discrete=True, \n",
    "                                                                  y_scale='linear', with_count=True, header=None)"
   ]
  },
  {
   "cell_type": "markdown",
   "id": "58b25a89",
   "metadata": {},
   "source": [
    "# Segmentation analysis\n",
    "\n",
    "This looks at whether the relationship between target and x-variables differ by segments of the data. Each color represents a segment. The left chart shows the relationship between y and x, and right hand side shows the number of observations per segment and x-bucket."
   ]
  },
  {
   "cell_type": "markdown",
   "id": "84443872",
   "metadata": {},
   "source": [
    "## Bivariate plots with numerical x-variables"
   ]
  },
  {
   "cell_type": "code",
   "execution_count": 19,
   "id": "6d3288c2",
   "metadata": {},
   "outputs": [
    {
     "data": {
      "image/png": "[encoded data removed]",
      "text/plain": [
       "<Figure size 1440x720 with 2 Axes>"
      ]
     },
     "metadata": {
      "needs_background": "light"
     },
     "output_type": "display_data"
    }
   ],
   "source": [
    "x_variable = \"income\"\n",
    "target = \"Approval\"\n",
    "segment_variable = \"loan_purpose\"\n",
    "fig, plotdata = bivariate_plots_categorical.segment_bivariate_continuous(dataset, target, x_variable, \n",
    "                                                                         segment_variable, num_buckets=20, \n",
    "                                                                         y_scale='logit', x_scale='log')"
   ]
  },
  {
   "cell_type": "markdown",
   "id": "9216813a",
   "metadata": {},
   "source": [
    "## Categorical x-variable"
   ]
  },
  {
   "cell_type": "markdown",
   "id": "110beda4",
   "metadata": {},
   "source": [
    "### Barplot"
   ]
  },
  {
   "cell_type": "code",
   "execution_count": 20,
   "id": "32bd24c0",
   "metadata": {},
   "outputs": [
    {
     "data": {
      "text/plain": [
       "<AxesSubplot:xlabel='loan_type', ylabel='count'>"
      ]
     },
     "execution_count": 20,
     "metadata": {},
     "output_type": "execute_result"
    },
    {
     "data": {
      "image/png": "[encoded data removed]",
      "text/plain": [
       "<Figure size 1080x360 with 2 Axes>"
      ]
     },
     "metadata": {
      "needs_background": "light"
     },
     "output_type": "display_data"
    }
   ],
   "source": [
    "x_variable = \"loan_type\"\n",
    "target = \"Approval\"\n",
    "segment_variable = \"loan_purpose\"\n",
    "\n",
    "fig, (ax1, ax2) = plt.subplots(1, 2, figsize=(15,5))\n",
    "\n",
    "sns.barplot(data=dataset, x=x_variable, y=target, hue=segment_variable, ci=False, ax = ax1)\n",
    "sns.countplot(data=dataset, x=x_variable, hue=segment_variable, ax = ax2)"
   ]
  },
  {
   "cell_type": "markdown",
   "id": "2de198aa",
   "metadata": {},
   "source": [
    "### Bivariate plot"
   ]
  },
  {
   "cell_type": "code",
   "execution_count": 21,
   "id": "74c28284",
   "metadata": {},
   "outputs": [
    {
     "data": {
      "image/png": "[encoded data removed]",
      "text/plain": [
       "<Figure size 1440x720 with 2 Axes>"
      ]
     },
     "metadata": {
      "needs_background": "light"
     },
     "output_type": "display_data"
    }
   ],
   "source": [
    "x_variable = \"loan_type\"\n",
    "target = \"Approval\"\n",
    "segment_variable = \"loan_purpose\"\n",
    "\n",
    "fig, plotdata = bivariate_plots_categorical.segment_bivariate_categorical(dataset, target, x_variable, segment_variable, \n",
    "                                                                          discrete = False, y_scale='logit')"
   ]
  },
  {
   "cell_type": "markdown",
   "id": "c30624bb",
   "metadata": {},
   "source": [
    "# Appendix: Data Dictionary\n",
    "\n",
    "* ID = Customer ID of Applicant\n",
    "* year = Year of Application\n",
    "* loan limit = maximum avaliable amount of the loan allowed to be taken\n",
    "* Gender = sex type\n",
    "* approv_in_adv = Is loan pre-approved or not\n",
    "* loan_type = Type of loan\n",
    "* loan_purpose = the reason you want to borrow money\n",
    "* Credit_Worthiness = is how a lender determines that you will default on your debt obligations, or how worthy you are to receive new credit.\n",
    "* open_credit = is a pre-approved loan between a lender and a borrower. It allows the borrower to make repeated withdrawals up to a certain limit.\n",
    "* business_or_commercial = Usage type of the loan amount\n",
    "* loan_amount = The exact loan amount\n",
    "* rate_of_interest = is the amount a lender charges a borrower and is a percentage of the principal—the amount loaned.\n",
    "* Interest_rate_spread = the difference between the interest rate a financial institution pays to depositors and the interest rate it receives from loans\n",
    "* Upfront_charges = Fee paid to a lender by a borrower as consideration for making a new loan\n",
    "* term = the loan's repayment period\n",
    "* Neg_ammortization = refers to a situation when a loan borrower makes a payment less than the standard installment set by the bank.\n",
    "* interest_only = amount of interest only without principles\n",
    "* lump_sum_payment = is an amount of money that is paid in one single payment rather than in installments.\n",
    "* property_value = the present worth of future benefits arising from the ownership of the property\n",
    "* construction_type = Collateral construction type\n",
    "* occupancy_type = classifications refer to categorizing structures based on their usage\n",
    "* Secured_by = Type of Collatoral\n",
    "* total_units = number of unites\n",
    "* income = refers to the amount of money, property, and other transfers of value received over a set period of time\n",
    "* credit_type = type of credit\n",
    "* co-applicant_credit_type = is an additional person involved in the loan application process. Both applicant and co-applicant apply and sign for the loan\n",
    "* age = applicant's age\n",
    "* submission_of_application = Ensure the application is complete or not\n",
    "* LTV = life-time value (LTV) is a prognostication of the net profit\n",
    "* Region = applicant's place\n",
    "* Security_Type = Type of Collatoral\n",
    "* status = Loan status (Approved/Declined)\n",
    "* dtir1 = debt-to-income ratio"
   ]
  },
  {
   "cell_type": "code",
   "execution_count": null,
   "id": "fa1d82d1",
   "metadata": {},
   "outputs": [],
   "source": []
  }
 ],
 "metadata": {
  "kernelspec": {
   "display_name": "Python 3 (ipykernel)",
   "language": "python",
   "name": "python3"
  },
  "language_info": {
   "codemirror_mode": {
    "name": "ipython",
    "version": 3
   },
   "file_extension": ".py",
   "mimetype": "text/x-python",
   "name": "python",
   "nbconvert_exporter": "python",
   "pygments_lexer": "ipython3",
   "version": "3.9.5"
  },
  "toc": {
   "base_numbering": 1,
   "nav_menu": {
    "height": "536px",
    "width": "282px"
   },
   "number_sections": true,
   "sideBar": true,
   "skip_h1_title": false,
   "title_cell": "Table of Contents",
   "title_sidebar": "Contents",
   "toc_cell": false,
   "toc_position": {
    "height": "calc(100% - 180px)",
    "left": "10px",
    "top": "150px",
    "width": "384px"
   },
   "toc_section_display": true,
   "toc_window_display": true
  }
 },
 "nbformat": 4,
 "nbformat_minor": 5
}
